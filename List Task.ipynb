{
 "cells": [
  {
   "cell_type": "code",
   "execution_count": 4,
   "metadata": {},
   "outputs": [
    {
     "name": "stdout",
     "output_type": "stream",
     "text": [
      "largest largest number in a List is :  754\n"
     ]
    }
   ],
   "source": [
    "# 1]Python program to find largest number in a List\n",
    "\n",
    "lst=[12,54,87,33,154,754,233]\n",
    "print(\"largest number in a List is : \",max(lst))"
   ]
  },
  {
   "cell_type": "code",
   "execution_count": 7,
   "metadata": {},
   "outputs": [
    {
     "name": "stdout",
     "output_type": "stream",
     "text": [
      " second largest number in a List is :  233\n"
     ]
    }
   ],
   "source": [
    "#2]Python program to find second largest number in a List\n",
    "lst=[12,54,87,33,154,754,233]\n",
    "lst.sort()\n",
    "print(\" second largest number in a List is : \",lst[-2])"
   ]
  },
  {
   "cell_type": "code",
   "execution_count": 8,
   "metadata": {},
   "outputs": [
    {
     "name": "stdout",
     "output_type": "stream",
     "text": [
      "The original list 1 is : [2, 5, 7, 4, 9, 24, 17]\n",
      "The original list 2 is : [5, 23, 21, 47, 50, 75]\n",
      "The merged sorted list is : [2, 4, 5, 5, 7, 9, 17, 21, 23, 24, 47, 50, 75]\n"
     ]
    }
   ],
   "source": [
    "#3]Python program to Merge two lists and sort it.\n",
    "  \n",
    "#initialization\n",
    "lst1=[2,5,7,4,9,24,17]\n",
    "lst2=[5,23,21,47,50,75]\n",
    "\n",
    "print(\"The original list 1 is :\", lst1)\n",
    "print(\"The original list 2 is :\", lst2)\n",
    "\n",
    "result=sorted(lst1 + lst2)\n",
    "\n",
    "print(\"The merged sorted list is :\",result )\n",
    "  \n"
   ]
  },
  {
   "cell_type": "code",
   "execution_count": 12,
   "metadata": {},
   "outputs": [
    {
     "name": "stdout",
     "output_type": "stream",
     "text": [
      "List Before swapping is : [2, 4, 6, 8, 10, 12, 16]\n",
      "List After swapping is : [16, 4, 6, 8, 10, 12, 2]\n"
     ]
    }
   ],
   "source": [
    "# 4]Python program to Swap the first and Last Value of a List\n",
    "lst=[2,4,6,8,10,12,16]\n",
    "\n",
    "print(\"List Before swapping is :\",lst)\n",
    "\n",
    "lst[0],lst[-1]=lst[-1],lst[0]\n",
    "\n",
    "print(\"List After swapping is :\",lst)"
   ]
  },
  {
   "cell_type": "code",
   "execution_count": null,
   "metadata": {},
   "outputs": [],
   "source": []
  }
 ],
 "metadata": {
  "kernelspec": {
   "display_name": "Python 3",
   "language": "python",
   "name": "python3"
  },
  "language_info": {
   "codemirror_mode": {
    "name": "ipython",
    "version": 3
   },
   "file_extension": ".py",
   "mimetype": "text/x-python",
   "name": "python",
   "nbconvert_exporter": "python",
   "pygments_lexer": "ipython3",
   "version": "3.7.4"
  }
 },
 "nbformat": 4,
 "nbformat_minor": 2
}
