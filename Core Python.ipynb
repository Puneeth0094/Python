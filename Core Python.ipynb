{
 "cells": [
  {
   "cell_type": "markdown",
   "metadata": {},
   "source": [
    "# Chapter-3"
   ]
  },
  {
   "cell_type": "code",
   "execution_count": null,
   "metadata": {},
   "outputs": [],
   "source": [
    "#defining function\n",
    "def add(x,y):\n",
    "    print(\"Sum =\",(x+y))\n",
    "\n",
    "def message(a):\n",
    "    a=a+50\n",
    "    print(\"welcome to python\")\n",
    "    print(a*10)\n",
    "    \n",
    "#calling a function\n",
    "add(50,200)\n",
    "message(10)"
   ]
  },
  {
   "cell_type": "markdown",
   "metadata": {},
   "source": [
    "Variable"
   ]
  },
  {
   "cell_type": "code",
   "execution_count": null,
   "metadata": {},
   "outputs": [],
   "source": [
    "a=1\n",
    "a"
   ]
  },
  {
   "cell_type": "code",
   "execution_count": null,
   "metadata": {},
   "outputs": [],
   "source": [
    "a=2\n",
    "a"
   ]
  },
  {
   "cell_type": "code",
   "execution_count": null,
   "metadata": {},
   "outputs": [],
   "source": [
    "b=a\n",
    "b"
   ]
  },
  {
   "cell_type": "code",
   "execution_count": null,
   "metadata": {},
   "outputs": [],
   "source": [
    "id(b)"
   ]
  },
  {
   "cell_type": "code",
   "execution_count": null,
   "metadata": {},
   "outputs": [],
   "source": [
    "id(a)"
   ]
  },
  {
   "cell_type": "markdown",
   "metadata": {},
   "source": [
    "# Datatypes in Python"
   ]
  },
  {
   "cell_type": "markdown",
   "metadata": {},
   "source": [
    "## Built in datatypes :\n",
    "1.None Type\n",
    "2.Numeric Type\n",
    "3.Sequences\n",
    "4.Sets\n",
    "5.Mappings(Dictionary)"
   ]
  },
  {
   "cell_type": "markdown",
   "metadata": {},
   "source": [
    "1]None \n",
    "It represents an object that does not contain any value.(In java - 'Null')\n",
    "Use: It's used ainside a function as a default value of the arguments.\n",
    "    >When calling the function , if no value is passed , then the default value will be taken as 'None'\n",
    "    >In boolean exp \"None\" data type represents 'False'"
   ]
  },
  {
   "cell_type": "markdown",
   "metadata": {},
   "source": [
    "2]Numeric Types\n",
    "\n",
    "a)int : \n",
    "    >The int datatype represents integer number.(w/o decimal number)\n",
    "    >a=-57\n",
    "    \n",
    "b)flaot:\n",
    "    >flaoting point number\n",
    "    >num=55.68789\n",
    "    >x=22.55e3  (e=power of 10)\n",
    "    \n",
    "c)complex:\n",
    "    >a+bj  : a-Real part and b-Imaginary part\n",
    "    >c1=1-5.5j\n",
    "    \n",
    "    "
   ]
  },
  {
   "cell_type": "code",
   "execution_count": null,
   "metadata": {},
   "outputs": [],
   "source": [
    "#Progarm 1 : A python program to add 2 complex number.\n",
    "c1=1+2j\n",
    "c2=5-8j\n",
    "c=c1+c2\n",
    "print(\"Sum =\",c)"
   ]
  },
  {
   "cell_type": "markdown",
   "metadata": {},
   "source": [
    "## Representing Binary,Octal and Hexadecimal Numbers\n",
    "\n"
   ]
  },
  {
   "cell_type": "markdown",
   "metadata": {},
   "source": [
    " >A binary number should be written by prefixing 0b or 0B >>EX: 0b110110 or 0B101010011\n",
    "    \n",
    ">Hexadecimal numbers are written by prefixing 0x or 0X >>Ex:0xA180 or 0X11fb91\n",
    "    \n",
    ">Octal numbers are indicated by prefixing 0o or 0O  >>Ex: 0o773 or 0O773"
   ]
  },
  {
   "cell_type": "markdown",
   "metadata": {},
   "source": [
    "# Converting the datatypes Explicitly"
   ]
  },
  {
   "cell_type": "markdown",
   "metadata": {},
   "source": [
    "i) int(x) : is used to convert the number x into int type."
   ]
  },
  {
   "cell_type": "code",
   "execution_count": null,
   "metadata": {},
   "outputs": [],
   "source": [
    "x=15.56\n",
    "int(x)"
   ]
  },
  {
   "cell_type": "markdown",
   "metadata": {},
   "source": [
    "ii)flaot(x): is used to convert x into flaot type."
   ]
  },
  {
   "cell_type": "code",
   "execution_count": null,
   "metadata": {},
   "outputs": [],
   "source": [
    "num=15\n",
    "float(num)"
   ]
  },
  {
   "cell_type": "markdown",
   "metadata": {},
   "source": [
    "complex(x) : is used to convert x into a complex number with real part x and imaginary part zero"
   ]
  },
  {
   "cell_type": "code",
   "execution_count": null,
   "metadata": {},
   "outputs": [],
   "source": [
    "# n=10\n",
    "complex(n)"
   ]
  },
  {
   "cell_type": "code",
   "execution_count": null,
   "metadata": {},
   "outputs": [],
   "source": [
    "a=10\n",
    "b=-5\n",
    "complex(a,b)"
   ]
  },
  {
   "cell_type": "code",
   "execution_count": null,
   "metadata": {},
   "outputs": [],
   "source": [
    "#Program 2 :A program to convert numbers from octal ,binary and hexadecimal systems into decimal numbers system.\n",
    "n1=0O17\n",
    "n2=0B1110010\n",
    "n3=0X1c2\n",
    "\n",
    "n=int(n1)\n",
    "print(\"octal 17 = \",n)\n",
    "\n",
    "n=int(n2)\n",
    "print(\"Binary 1110010 = \",n)\n",
    "\n",
    "n=int(n3)\n",
    "print(\"Hexadecimal 1c2=\",n)"
   ]
  },
  {
   "cell_type": "code",
   "execution_count": null,
   "metadata": {},
   "outputs": [],
   "source": [
    "str=\"1c2\"\n",
    "n=int(str,16)\n",
    "print(n)"
   ]
  },
  {
   "cell_type": "code",
   "execution_count": null,
   "metadata": {},
   "outputs": [],
   "source": [
    "#Program 3 :repeat program 2 using int(string,base) function\n",
    "\n",
    "s1=\"17\"\n",
    "s2=\"1110010\"\n",
    "s3=\"1c2\"\n",
    "\n",
    "n=int(s1,8)\n",
    "print(\"octal 17 = \",n)\n",
    "\n",
    "n=int(s2,2)\n",
    "print(\"Binary 1110010 = \",n)\n",
    "\n",
    "n=int(s3,16)\n",
    "print(\"Hexadecimal 1c2=\",n)\n",
    "\n"
   ]
  },
  {
   "cell_type": "markdown",
   "metadata": {},
   "source": [
    "Note :\n",
    "    bin() : converting number into binary\n",
    "    oct() : converting number into octal\n",
    "    hex() :converting number into hexadecimal system"
   ]
  },
  {
   "cell_type": "code",
   "execution_count": null,
   "metadata": {},
   "outputs": [],
   "source": [
    "a=10\n",
    "b=bin(a)\n",
    "\n",
    "print(\"1O in binary =\" ,b)\n",
    "\n",
    "b=oct(a)\n",
    "print(\"1O in octal =\" ,b)\n",
    "\n",
    "b=hex(a)\n",
    "print(\"1O in hexadecimal =\" ,b)"
   ]
  },
  {
   "cell_type": "markdown",
   "metadata": {},
   "source": [
    "# bool datatype\n"
   ]
  },
  {
   "cell_type": "markdown",
   "metadata": {},
   "source": [
    ">The bool datatype represents boolean values.\n",
    ">There are only 2 boolean values True(1) or False(0 or \"\")\n"
   ]
  },
  {
   "cell_type": "code",
   "execution_count": null,
   "metadata": {},
   "outputs": [],
   "source": [
    "a=10\n",
    "b=20\n",
    "if(10<20):\n",
    "    print(\"Hello\")"
   ]
  },
  {
   "cell_type": "code",
   "execution_count": null,
   "metadata": {},
   "outputs": [],
   "source": [
    "a=10\n",
    "b=20\n",
    "if(10<20): print(\"Hello\")\n",
    "   "
   ]
  },
  {
   "cell_type": "code",
   "execution_count": null,
   "metadata": {},
   "outputs": [],
   "source": [
    "a=10>5\n",
    "print(a)"
   ]
  },
  {
   "cell_type": "code",
   "execution_count": null,
   "metadata": {},
   "outputs": [],
   "source": [
    "a=5>10\n",
    "print(a)"
   ]
  },
  {
   "cell_type": "code",
   "execution_count": null,
   "metadata": {},
   "outputs": [],
   "source": [
    "True+True  #True=1 and False=0"
   ]
  },
  {
   "cell_type": "code",
   "execution_count": null,
   "metadata": {},
   "outputs": [],
   "source": [
    "True+False"
   ]
  },
  {
   "cell_type": "code",
   "execution_count": null,
   "metadata": {},
   "outputs": [],
   "source": [
    "False+False"
   ]
  },
  {
   "cell_type": "code",
   "execution_count": null,
   "metadata": {},
   "outputs": [],
   "source": [
    "True*True"
   ]
  },
  {
   "cell_type": "markdown",
   "metadata": {},
   "source": [
    "# 3]Sequences"
   ]
  },
  {
   "cell_type": "markdown",
   "metadata": {},
   "source": [
    "a)str Datatype:\n",
    "    >str represents string Datatype\n",
    "    >A string  is represented by a group of characters and enclosed by '' or \"\" or ''' '''\n",
    "    >The slice operator represents square brackets [ ] to retrieve pieces of a string.\n",
    "    >str[0] - indicates the 0th character or beginning character in the string.\n",
    "    "
   ]
  },
  {
   "cell_type": "code",
   "execution_count": null,
   "metadata": {},
   "outputs": [],
   "source": [
    "s=\"welcome to python\"\n",
    "print(s)"
   ]
  },
  {
   "cell_type": "code",
   "execution_count": null,
   "metadata": {},
   "outputs": [],
   "source": [
    "print(s[0])\n",
    "print(s[3:8])\n",
    "print(s[11:])\n",
    "print(s[-1])"
   ]
  },
  {
   "cell_type": "code",
   "execution_count": null,
   "metadata": {},
   "outputs": [],
   "source": [
    "print(s*2)"
   ]
  },
  {
   "cell_type": "markdown",
   "metadata": {},
   "source": [
    "b) bytes datatype :\n",
    "    >It represents a group of byte numbers just like array does.\n",
    "    >A byte number is any positive number from 0 to 255.\n",
    "    >A byte array can store numbers in the range from 0 to 255\n",
    "    >We can't modify or edit any element in the bytes type array"
   ]
  },
  {
   "cell_type": "code",
   "execution_count": null,
   "metadata": {},
   "outputs": [],
   "source": [
    "elements=[10,20,0,40,15]\n",
    "x=bytes(elements)\n",
    "type(x)"
   ]
  },
  {
   "cell_type": "code",
   "execution_count": null,
   "metadata": {},
   "outputs": [],
   "source": [
    "x[0]"
   ]
  },
  {
   "cell_type": "code",
   "execution_count": null,
   "metadata": {},
   "outputs": [],
   "source": [
    "x[0]=55    #TypeError: 'bytes' object does not support item assignment"
   ]
  },
  {
   "cell_type": "code",
   "execution_count": null,
   "metadata": {},
   "outputs": [],
   "source": [
    "for i in x:\n",
    "    print(i,end=\" \")"
   ]
  },
  {
   "cell_type": "code",
   "execution_count": null,
   "metadata": {},
   "outputs": [],
   "source": [
    "#Program 4 : A python to create  a byte type array , read and display the elements of the array\n",
    "elements=[10,20,0,50,80]\n",
    "x=bytes(elements) \n",
    "for i in x:\n",
    "    print(i,end=\" \")"
   ]
  },
  {
   "cell_type": "markdown",
   "metadata": {},
   "source": [
    "c)bytearray Datatype:\n",
    "    >It is similar to bytes datatype.\n",
    "    >The difference is that the bytes type array can't be modified but the bytearray type can be modified."
   ]
  },
  {
   "cell_type": "code",
   "execution_count": null,
   "metadata": {},
   "outputs": [],
   "source": [
    "#Program 5 : A pthon program to create a bytearray type array and retrieve elements and modify the first 2 elements.\n",
    "elements=[10,20,0,50,80]\n",
    "x=bytearray(elements)\n",
    "\n",
    "#modify the first 2 elements of x\n",
    "x[0]=88\n",
    "x[1]=99\n",
    "\n",
    "#retrieve elements from x using for loop and display\n",
    "for i in x:\n",
    "    print(i,end=\" \")"
   ]
  },
  {
   "cell_type": "markdown",
   "metadata": {},
   "source": [
    "d)list Datatype \n",
    "    >Lists in Python are similar to arrays in C or Java\n",
    "    >The main difference b/w a list and an array is that a list can store different types of elements \n",
    "     but an array can store only one type of elements.\n",
    "    >Lists can grow dynamically in memory. \n",
    "    >Lists are represented using square brackets [] and the elements are written in [],separated by commas.\n",
    "    "
   ]
  },
  {
   "cell_type": "code",
   "execution_count": null,
   "metadata": {},
   "outputs": [],
   "source": [
    "list=[10,-20,15.5,\"Vijay\",\"Mary\"]\n",
    "list"
   ]
  },
  {
   "cell_type": "code",
   "execution_count": null,
   "metadata": {},
   "outputs": [],
   "source": [
    "list[0:3]"
   ]
  },
  {
   "cell_type": "code",
   "execution_count": null,
   "metadata": {},
   "outputs": [],
   "source": [
    "print(list[0])\n",
    "print(list[1:3])\n",
    "print(list[-2])\n",
    "print(list*2)"
   ]
  },
  {
   "cell_type": "code",
   "execution_count": null,
   "metadata": {},
   "outputs": [],
   "source": [
    "lst=[x for x in input(\"enter\").split(\",\")]"
   ]
  },
  {
   "cell_type": "code",
   "execution_count": null,
   "metadata": {},
   "outputs": [],
   "source": [
    "a,b=5,10\n",
    "result=eval(\"a+b-4\")\n",
    "result"
   ]
  },
  {
   "cell_type": "code",
   "execution_count": null,
   "metadata": {},
   "outputs": [],
   "source": [
    "a,b=10,20\n",
    "x=eval(input(\"enter\"))\n",
    "print(x)"
   ]
  },
  {
   "cell_type": "code",
   "execution_count": null,
   "metadata": {},
   "outputs": [],
   "source": [
    "#area of circle\n",
    "import math\n",
    "r=float(input(\"entera radius\"))\n",
    "a=math.pi*r**2\n",
    "print(\"{:0.2f}\".format(a))"
   ]
  },
  {
   "cell_type": "code",
   "execution_count": null,
   "metadata": {},
   "outputs": [],
   "source": [
    "2**3\n"
   ]
  },
  {
   "cell_type": "code",
   "execution_count": null,
   "metadata": {},
   "outputs": [],
   "source": [
    "#while\n",
    "x=1\n",
    "while(x<=10):\n",
    "    print(x)\n",
    "    x+=1\n",
    "print(\"end\")"
   ]
  },
  {
   "cell_type": "code",
   "execution_count": null,
   "metadata": {},
   "outputs": [],
   "source": [
    "#even number from 100 to 200\n",
    "x=100\n",
    "while(x<=200):\n",
    "    if (x%2==0):\n",
    "        print(x,end=\" \")\n",
    "        x+=2"
   ]
  },
  {
   "cell_type": "code",
   "execution_count": null,
   "metadata": {},
   "outputs": [],
   "source": [
    "#display even number between m and n\n",
    "m,n=[int(i) for i in input(\"enter the range\").split(\",\")]\n",
    "\n",
    "x=m\n",
    "while (x>=m and x<=n):\n",
    "    if x%2==0:\n",
    "        print(x)\n",
    "        x+=1\n",
    "print(\"end\")"
   ]
  },
  {
   "cell_type": "code",
   "execution_count": 2,
   "metadata": {},
   "outputs": [
    {
     "name": "stdout",
     "output_type": "stream",
     "text": [
      "enter the range10,20\n",
      "10\n",
      "12\n",
      "14\n",
      "16\n",
      "18\n",
      "20\n"
     ]
    }
   ],
   "source": [
    "m,n=[int(i) for i in input(\"enter the range\").split(\",\")]\n",
    "\n",
    "x=m\n",
    "if x%2!=0:\n",
    "    x=x+1\n",
    "    \n",
    "while (x>=m and x<=n):\n",
    "    print(x)\n",
    "    x+=2"
   ]
  },
  {
   "cell_type": "code",
   "execution_count": 3,
   "metadata": {},
   "outputs": [
    {
     "name": "stdout",
     "output_type": "stream",
     "text": [
      "h\n",
      "e\n",
      "l\n",
      "l\n",
      "o\n"
     ]
    }
   ],
   "source": [
    "#for loop\n",
    "str=\"hello\"\n",
    "for ch in str:\n",
    "    print(ch)\n"
   ]
  },
  {
   "cell_type": "code",
   "execution_count": 5,
   "metadata": {},
   "outputs": [
    {
     "name": "stdout",
     "output_type": "stream",
     "text": [
      "h\n",
      "e\n",
      "l\n",
      "l\n",
      "o\n"
     ]
    }
   ],
   "source": [
    "str=\"hello\"\n",
    "n=len(str)\n",
    "for ch in range(n):\n",
    "    print(str[ch])"
   ]
  },
  {
   "cell_type": "code",
   "execution_count": 7,
   "metadata": {},
   "outputs": [
    {
     "name": "stdout",
     "output_type": "stream",
     "text": [
      "2\n",
      "4\n",
      "6\n",
      "8\n"
     ]
    }
   ],
   "source": [
    "for i in range(2,10,2):\n",
    "    print(i)"
   ]
  },
  {
   "cell_type": "code",
   "execution_count": 9,
   "metadata": {},
   "outputs": [
    {
     "name": "stdout",
     "output_type": "stream",
     "text": [
      "10\n",
      "9\n",
      "8\n",
      "7\n",
      "6\n",
      "5\n",
      "4\n",
      "3\n",
      "2\n",
      "1\n"
     ]
    }
   ],
   "source": [
    "for x in range(10,0,-1):\n",
    "    print(x)"
   ]
  },
  {
   "cell_type": "code",
   "execution_count": 11,
   "metadata": {},
   "outputs": [
    {
     "name": "stdout",
     "output_type": "stream",
     "text": [
      "1\n",
      "A\n",
      "2.0\n",
      "param\n"
     ]
    }
   ],
   "source": [
    "#display the elements of a list using for loop\n",
    "list=[1,\"A\",2.0,\"param\"]\n",
    "for elements in list:\n",
    "    print(elements)"
   ]
  },
  {
   "cell_type": "code",
   "execution_count": 13,
   "metadata": {},
   "outputs": [
    {
     "name": "stdout",
     "output_type": "stream",
     "text": [
      "sum = 150\n"
     ]
    }
   ],
   "source": [
    "#find the sum of a list of numbers using for loop\n",
    "lst=[10,20,30,40,50]\n",
    "sum=0\n",
    "for i in lst:\n",
    "    sum+=i\n",
    "print(\"sum =\",sum)"
   ]
  },
  {
   "cell_type": "code",
   "execution_count": 17,
   "metadata": {},
   "outputs": [
    {
     "name": "stdout",
     "output_type": "stream",
     "text": [
      "150\n"
     ]
    }
   ],
   "source": [
    "lst=[10,20,30,40,50]\n",
    "sum=0\n",
    "i=0\n",
    "while (i < len(lst)):\n",
    "    sum+=lst[i]\n",
    "    i+=1\n",
    "print(sum)    "
   ]
  },
  {
   "cell_type": "code",
   "execution_count": null,
   "metadata": {},
   "outputs": [],
   "source": []
  }
 ],
 "metadata": {
  "kernelspec": {
   "display_name": "Python 3",
   "language": "python",
   "name": "python3"
  },
  "language_info": {
   "codemirror_mode": {
    "name": "ipython",
    "version": 3
   },
   "file_extension": ".py",
   "mimetype": "text/x-python",
   "name": "python",
   "nbconvert_exporter": "python",
   "pygments_lexer": "ipython3",
   "version": "3.7.4"
  }
 },
 "nbformat": 4,
 "nbformat_minor": 2
}
